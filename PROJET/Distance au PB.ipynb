{
 "cells": [
  {
   "cell_type": "markdown",
   "id": "1f855cf5",
   "metadata": {},
   "source": [
    "# Calcul de la distance au point de branchement\n",
    "Il peut être intéressant de connaitre la distance entre la maison du client et celle du point branchement auquel il doit être rattaché car un certain nombre d'échec de production et de rendez-vous inutiles vienne d'une distance trop importante entre les 2 : le technicien vient sans le matériel adapté ou ne trouve pas le Point de Branchement.\n",
    "\n",
    "Ce notebook permet de traiter les adresses présentes dans le fichier Excel ETI31 et de calculer leurs coordonnées GPS.\n",
    "\n",
    "Il faudra également ajouter les adresses des Points de Branchement associés à chacune des adresses pour pouvoir calculer la distance et pour l'intégrer aux notebooks de prévisions d'échecs.\n",
    "\n",
    "Les étapes de ce notebook :\n",
    "- Importation des bibliothèques\n",
    "- Proxy\n",
    "- Fonction pour la conversion Adresse /GPS et calcul de la distance\n",
    "- Importation ETI31 et préparation des données\n",
    "- Coordonnées GPS pour les adresses clients"
   ]
  },
  {
   "cell_type": "markdown",
   "id": "9066f425",
   "metadata": {},
   "source": [
    "### Importation des bibliothèques"
   ]
  },
  {
   "cell_type": "code",
   "execution_count": 163,
   "id": "838b2c93",
   "metadata": {},
   "outputs": [],
   "source": [
    "from geopy.geocoders import Nominatim\n",
    "from geopy import distance\n",
    "import requests\n",
    "import http.client, urllib.parse\n",
    "import random\n",
    "import time\n",
    "import socket\n",
    "socket.getaddrinfo('localhost', 8888)\n",
    "import json\n",
    "import numpy as np\n",
    "import math\n",
    "import re\n",
    "import urllib3\n",
    "import os\n",
    "import pickle\n",
    "import pandas as pd\n",
    "import warnings\n",
    "warnings.filterwarnings('ignore')"
   ]
  },
  {
   "cell_type": "markdown",
   "id": "e026c908",
   "metadata": {},
   "source": [
    "### Proxy"
   ]
  },
  {
   "cell_type": "markdown",
   "id": "5bd49afb",
   "metadata": {},
   "source": [
    "### Fonctions pour la conversion Adresse / GPS et calcul de la distance"
   ]
  },
  {
   "cell_type": "code",
   "execution_count": 202,
   "id": "f4fb1b37",
   "metadata": {},
   "outputs": [],
   "source": [
    "#Fonction qui prend en entrée une adresse et renvoie la latitude et la longitude associée\n",
    "def adress_latitude_longitude(adresse):\n",
    "    api_key = \"192349ff78a82f7905ff72c0850de2cd\"\n",
    "    country = \"FR\"\n",
    "    url = f\"http://api.positionstack.com/v1/forward?access_key={api_key}&query={adresse}&country={country}\"\n",
    "    response = requests.get(url)\n",
    "    data = response.json()\n",
    "    \n",
    "    if data[\"data\"]:\n",
    "        # Extraire les informations de géocodage\n",
    "        try :\n",
    "            latitude = data[\"data\"][0][\"latitude\"]\n",
    "            longitude = data[\"data\"][0][\"longitude\"]\n",
    "        except:\n",
    "            print(\"erreur (data liste) pour :\" + adresse)\n",
    "            latitude = None\n",
    "            longitude = None\n",
    "        return latitude,longitude\n",
    "    else:\n",
    "        print(\"erreur (adresse non trouvée) pour :\" + adresse)\n",
    "        return None,None"
   ]
  },
  {
   "cell_type": "code",
   "execution_count": 203,
   "id": "4bd1d1e3",
   "metadata": {},
   "outputs": [
    {
     "data": {
      "text/plain": [
       "(48.093828, -1.676935)"
      ]
     },
     "execution_count": 203,
     "metadata": {},
     "output_type": "execute_result"
    }
   ],
   "source": [
    "#Test\n",
    "adress_latitude_longitude(\"106 Boulevard Georges Clemenceau 35200 Rennes\")"
   ]
  },
  {
   "cell_type": "code",
   "execution_count": 204,
   "id": "fe16d4fe",
   "metadata": {},
   "outputs": [],
   "source": [
    "#Fonction qui calcule la distance entre deux points A et B à partir de leur latitude et longitude\n",
    "def distance_lat_long(A_lat,A_long,B_lat,B_long):\n",
    "    A =(A_lat, A_long)\n",
    "    B =(B_lat , B_long)\n",
    "    distance = round(GD(A,B).m,2)\n",
    "    print(\"La distance est de : \" + str(distance) + \" mètres.\")\n",
    "    return distance"
   ]
  },
  {
   "cell_type": "code",
   "execution_count": 205,
   "id": "4094c20a",
   "metadata": {},
   "outputs": [],
   "source": [
    "#Fonction qui calcule la distance à partir de 2 adresses\n",
    "def distance_2_adresses(adresseA,adresseB):\n",
    "    A_lat,A_long = adresse_latitude_longitude(adresseA)\n",
    "    B_lat,B_long = adresse_latitude_longitude(adresseB)\n",
    "    if A_lat != null and A_long != null and B_lat != null and B_long != null :\n",
    "        return distance_lat_long(A_lat,A_long,B_lat,B_long)\n",
    "    else :\n",
    "        print (\"Erreur\")\n",
    "        return "
   ]
  },
  {
   "cell_type": "markdown",
   "id": "cd055581",
   "metadata": {},
   "source": [
    "### Importation des adresses de ETI31 et préparation des données"
   ]
  },
  {
   "cell_type": "code",
   "execution_count": 206,
   "id": "b459afd3",
   "metadata": {},
   "outputs": [],
   "source": [
    "#Importation avec Pandas\n",
    "path_eti31 = \"csv/ETI31_adresse_client.csv\"\n",
    "df = pd.read_csv(path_eti31,low_memory=False).drop(columns=[\"CODE INTERVENTION\",\"CODE VOIE\"])"
   ]
  },
  {
   "cell_type": "code",
   "execution_count": 207,
   "id": "7dc366d4",
   "metadata": {},
   "outputs": [
    {
     "data": {
      "text/html": [
       "<div>\n",
       "<style scoped>\n",
       "    .dataframe tbody tr th:only-of-type {\n",
       "        vertical-align: middle;\n",
       "    }\n",
       "\n",
       "    .dataframe tbody tr th {\n",
       "        vertical-align: top;\n",
       "    }\n",
       "\n",
       "    .dataframe thead th {\n",
       "        text-align: right;\n",
       "    }\n",
       "</style>\n",
       "<table border=\"1\" class=\"dataframe\">\n",
       "  <thead>\n",
       "    <tr style=\"text-align: right;\">\n",
       "      <th></th>\n",
       "      <th>No DESIGNATION</th>\n",
       "      <th>CODE RELEVE</th>\n",
       "      <th>DI_ADR_NUMV</th>\n",
       "      <th>DI_ADR_LIBVOIE</th>\n",
       "      <th>DI_ADR_LIBCOMM</th>\n",
       "    </tr>\n",
       "  </thead>\n",
       "  <tbody>\n",
       "    <tr>\n",
       "      <th>0</th>\n",
       "      <td>299568158</td>\n",
       "      <td>RRC</td>\n",
       "      <td>4</td>\n",
       "      <td>LA BRETECHE</td>\n",
       "      <td>MEILLAC</td>\n",
       "    </tr>\n",
       "    <tr>\n",
       "      <th>1</th>\n",
       "      <td>297892193</td>\n",
       "      <td>DMS</td>\n",
       "      <td>28</td>\n",
       "      <td>RUE DE KERULVE</td>\n",
       "      <td>LORIENT</td>\n",
       "    </tr>\n",
       "    <tr>\n",
       "      <th>2</th>\n",
       "      <td>297897767</td>\n",
       "      <td>DMS</td>\n",
       "      <td>44</td>\n",
       "      <td>RTE PINS</td>\n",
       "      <td>BELZ</td>\n",
       "    </tr>\n",
       "    <tr>\n",
       "      <th>3</th>\n",
       "      <td>223370510</td>\n",
       "      <td>DMS</td>\n",
       "      <td>4</td>\n",
       "      <td>RUE DE L OISEAU MARTIN</td>\n",
       "      <td>CHATEAUGIRON</td>\n",
       "    </tr>\n",
       "    <tr>\n",
       "      <th>4</th>\n",
       "      <td>299556603</td>\n",
       "      <td>DMS</td>\n",
       "      <td>23</td>\n",
       "      <td>RUE ROBERT DOISNEAU</td>\n",
       "      <td>ACIGNE</td>\n",
       "    </tr>\n",
       "    <tr>\n",
       "      <th>...</th>\n",
       "      <td>...</td>\n",
       "      <td>...</td>\n",
       "      <td>...</td>\n",
       "      <td>...</td>\n",
       "      <td>...</td>\n",
       "    </tr>\n",
       "    <tr>\n",
       "      <th>5028</th>\n",
       "      <td>296611510</td>\n",
       "      <td>DMS</td>\n",
       "      <td>62</td>\n",
       "      <td>BD WALDECK ROUSSEAU</td>\n",
       "      <td>SAINT BRIEUC</td>\n",
       "    </tr>\n",
       "    <tr>\n",
       "      <th>5029</th>\n",
       "      <td>223273821</td>\n",
       "      <td>NaN</td>\n",
       "      <td>NaN</td>\n",
       "      <td>NaN</td>\n",
       "      <td>NaN</td>\n",
       "    </tr>\n",
       "    <tr>\n",
       "      <th>5030</th>\n",
       "      <td>223309738</td>\n",
       "      <td>DMS</td>\n",
       "      <td>11</td>\n",
       "      <td>SQ DE TERRE NEUVE</td>\n",
       "      <td>RENNES</td>\n",
       "    </tr>\n",
       "    <tr>\n",
       "      <th>5031</th>\n",
       "      <td>298170718</td>\n",
       "      <td>DMS</td>\n",
       "      <td>NaN</td>\n",
       "      <td>MOULIN NEUF</td>\n",
       "      <td>MOTREFF</td>\n",
       "    </tr>\n",
       "    <tr>\n",
       "      <th>5032</th>\n",
       "      <td>298170734</td>\n",
       "      <td>DMS</td>\n",
       "      <td>138</td>\n",
       "      <td>COSQUER</td>\n",
       "      <td>MOTREFF</td>\n",
       "    </tr>\n",
       "  </tbody>\n",
       "</table>\n",
       "<p>5033 rows × 5 columns</p>\n",
       "</div>"
      ],
      "text/plain": [
       "      No DESIGNATION CODE RELEVE DI_ADR_NUMV          DI_ADR_LIBVOIE   \n",
       "0          299568158         RRC           4             LA BRETECHE  \\\n",
       "1          297892193         DMS          28          RUE DE KERULVE   \n",
       "2          297897767         DMS          44                RTE PINS   \n",
       "3          223370510         DMS           4  RUE DE L OISEAU MARTIN   \n",
       "4          299556603         DMS          23     RUE ROBERT DOISNEAU   \n",
       "...              ...         ...         ...                     ...   \n",
       "5028       296611510         DMS          62     BD WALDECK ROUSSEAU   \n",
       "5029       223273821         NaN         NaN                     NaN   \n",
       "5030       223309738         DMS          11       SQ DE TERRE NEUVE   \n",
       "5031       298170718         DMS         NaN             MOULIN NEUF   \n",
       "5032       298170734         DMS         138                 COSQUER   \n",
       "\n",
       "     DI_ADR_LIBCOMM  \n",
       "0           MEILLAC  \n",
       "1           LORIENT  \n",
       "2              BELZ  \n",
       "3      CHATEAUGIRON  \n",
       "4            ACIGNE  \n",
       "...             ...  \n",
       "5028   SAINT BRIEUC  \n",
       "5029            NaN  \n",
       "5030         RENNES  \n",
       "5031        MOTREFF  \n",
       "5032        MOTREFF  \n",
       "\n",
       "[5033 rows x 5 columns]"
      ]
     },
     "execution_count": 207,
     "metadata": {},
     "output_type": "execute_result"
    }
   ],
   "source": [
    "df"
   ]
  },
  {
   "cell_type": "code",
   "execution_count": 208,
   "id": "5bfba61c",
   "metadata": {},
   "outputs": [],
   "source": [
    "#Labélisation\n",
    "label_echec = [\"ANC\",\"ANN\",\"ETU\",\"MAJ\",\"ORT\",\"PAD\",\"PBC\",\"REO\",\"RMC\",\"RMF\",\"RRC\"]\n",
    "def colonne_label():\n",
    "    colonne = []\n",
    "    for i in df[\"CODE RELEVE\"]:\n",
    "        if i in label_echec:\n",
    "            colonne.append(False)\n",
    "        else :\n",
    "            colonne.append(True)\n",
    "    return colonne\n",
    "df[\"Reussite\"]=colonne_label() \n",
    "df = df.drop(columns=\"CODE RELEVE\")"
   ]
  },
  {
   "cell_type": "code",
   "execution_count": 209,
   "id": "fd3b129b",
   "metadata": {},
   "outputs": [],
   "source": [
    "#Nettoyafe des lignes où il manque des données\n",
    "df = df.dropna(subset=['No DESIGNATION', \"DI_ADR_NUMV\",\"DI_ADR_LIBVOIE\",\"DI_ADR_LIBCOMM\",\"Reussite\"]).reset_index(drop=True)"
   ]
  },
  {
   "cell_type": "code",
   "execution_count": 210,
   "id": "69a97e5c",
   "metadata": {},
   "outputs": [],
   "source": [
    "#Fonction pour réunir les informations de chaque colonne en une seule colonne adresse\n",
    "def colonne_adresse():\n",
    "    new_col = []\n",
    "    for i in range(0,len(df)):\n",
    "        new_col.append(str(df.loc[i,\"DI_ADR_NUMV\"]) + \" \" + str(df.loc[i,\"DI_ADR_LIBVOIE\"]) + \" \" + str(df.loc[i,\"DI_ADR_LIBCOMM\"]))\n",
    "    return new_col\n",
    "df[\"ADRESSE\"]=colonne_adresse()\n",
    "\n",
    "#On supprimer les colonnes qui sont maintenant inutiles\n",
    "df = df.drop(columns=[\"DI_ADR_NUMV\",\"DI_ADR_LIBVOIE\",\"DI_ADR_LIBCOMM\"])"
   ]
  },
  {
   "cell_type": "code",
   "execution_count": 211,
   "id": "8876407b",
   "metadata": {},
   "outputs": [
    {
     "data": {
      "text/html": [
       "<div>\n",
       "<style scoped>\n",
       "    .dataframe tbody tr th:only-of-type {\n",
       "        vertical-align: middle;\n",
       "    }\n",
       "\n",
       "    .dataframe tbody tr th {\n",
       "        vertical-align: top;\n",
       "    }\n",
       "\n",
       "    .dataframe thead th {\n",
       "        text-align: right;\n",
       "    }\n",
       "</style>\n",
       "<table border=\"1\" class=\"dataframe\">\n",
       "  <thead>\n",
       "    <tr style=\"text-align: right;\">\n",
       "      <th></th>\n",
       "      <th>No DESIGNATION</th>\n",
       "      <th>Reussite</th>\n",
       "      <th>ADRESSE</th>\n",
       "    </tr>\n",
       "  </thead>\n",
       "  <tbody>\n",
       "    <tr>\n",
       "      <th>0</th>\n",
       "      <td>299568158</td>\n",
       "      <td>False</td>\n",
       "      <td>4 LA BRETECHE MEILLAC</td>\n",
       "    </tr>\n",
       "    <tr>\n",
       "      <th>1</th>\n",
       "      <td>297892193</td>\n",
       "      <td>True</td>\n",
       "      <td>28 RUE DE KERULVE LORIENT</td>\n",
       "    </tr>\n",
       "    <tr>\n",
       "      <th>2</th>\n",
       "      <td>297897767</td>\n",
       "      <td>True</td>\n",
       "      <td>44 RTE PINS BELZ</td>\n",
       "    </tr>\n",
       "    <tr>\n",
       "      <th>3</th>\n",
       "      <td>223370510</td>\n",
       "      <td>True</td>\n",
       "      <td>4 RUE DE L OISEAU MARTIN CHATEAUGIRON</td>\n",
       "    </tr>\n",
       "    <tr>\n",
       "      <th>4</th>\n",
       "      <td>299556603</td>\n",
       "      <td>True</td>\n",
       "      <td>23 RUE ROBERT DOISNEAU ACIGNE</td>\n",
       "    </tr>\n",
       "    <tr>\n",
       "      <th>...</th>\n",
       "      <td>...</td>\n",
       "      <td>...</td>\n",
       "      <td>...</td>\n",
       "    </tr>\n",
       "    <tr>\n",
       "      <th>4030</th>\n",
       "      <td>297702145</td>\n",
       "      <td>True</td>\n",
       "      <td>10 LA TOUCHE MORGAN SERENT</td>\n",
       "    </tr>\n",
       "    <tr>\n",
       "      <th>4031</th>\n",
       "      <td>299001524</td>\n",
       "      <td>True</td>\n",
       "      <td>3 RUE PERCEVAL CHATEAUGIRON</td>\n",
       "    </tr>\n",
       "    <tr>\n",
       "      <th>4032</th>\n",
       "      <td>296611510</td>\n",
       "      <td>True</td>\n",
       "      <td>62 BD WALDECK ROUSSEAU SAINT BRIEUC</td>\n",
       "    </tr>\n",
       "    <tr>\n",
       "      <th>4033</th>\n",
       "      <td>223309738</td>\n",
       "      <td>True</td>\n",
       "      <td>11 SQ DE TERRE NEUVE RENNES</td>\n",
       "    </tr>\n",
       "    <tr>\n",
       "      <th>4034</th>\n",
       "      <td>298170734</td>\n",
       "      <td>True</td>\n",
       "      <td>138 COSQUER MOTREFF</td>\n",
       "    </tr>\n",
       "  </tbody>\n",
       "</table>\n",
       "<p>4035 rows × 3 columns</p>\n",
       "</div>"
      ],
      "text/plain": [
       "      No DESIGNATION  Reussite                                ADRESSE\n",
       "0          299568158     False                  4 LA BRETECHE MEILLAC\n",
       "1          297892193      True              28 RUE DE KERULVE LORIENT\n",
       "2          297897767      True                       44 RTE PINS BELZ\n",
       "3          223370510      True  4 RUE DE L OISEAU MARTIN CHATEAUGIRON\n",
       "4          299556603      True          23 RUE ROBERT DOISNEAU ACIGNE\n",
       "...              ...       ...                                    ...\n",
       "4030       297702145      True             10 LA TOUCHE MORGAN SERENT\n",
       "4031       299001524      True            3 RUE PERCEVAL CHATEAUGIRON\n",
       "4032       296611510      True    62 BD WALDECK ROUSSEAU SAINT BRIEUC\n",
       "4033       223309738      True            11 SQ DE TERRE NEUVE RENNES\n",
       "4034       298170734      True                    138 COSQUER MOTREFF\n",
       "\n",
       "[4035 rows x 3 columns]"
      ]
     },
     "execution_count": 211,
     "metadata": {},
     "output_type": "execute_result"
    }
   ],
   "source": [
    "#Le dataframe a la fin de la préparation\n",
    "df"
   ]
  },
  {
   "cell_type": "markdown",
   "id": "d55ec351",
   "metadata": {},
   "source": [
    "### Coordonnées GPS pour les adresses clients"
   ]
  },
  {
   "cell_type": "code",
   "execution_count": 216,
   "id": "50ee6153",
   "metadata": {},
   "outputs": [],
   "source": [
    "def listeAdresses_listesGPS(listeAdresses):\n",
    "    liste_latitude = []\n",
    "    liste_longitude = []\n",
    "    longueur = len(listeAdresses)\n",
    "    i = 0\n",
    "    for adresse in listeAdresses:\n",
    "        if i%50 == 0: \n",
    "            print(str(i) + \" sur \" + str(longueur))\n",
    "        i = i+1\n",
    "        lat_adresse,long_adresse = adress_latitude_longitude(adresse)\n",
    "        liste_latitude.append(lat_adresse)\n",
    "        liste_longitude.append(long_adresse)\n",
    "    return liste_latitude,liste_longitude"
   ]
  },
  {
   "cell_type": "markdown",
   "id": "1db0e6e0",
   "metadata": {},
   "source": [
    "On va séparer le dataframe en 40 parties pour éviter de perdre des données inutilement et du temps aussi. Histoire que s'il y a une erreur à la ligne 4000 on perde pas tous les calculs qui ont été fait avant. On aura juste à reconcaténer les dataframe derrière.\n"
   ]
  },
  {
   "cell_type": "code",
   "execution_count": 217,
   "id": "6f97e57e",
   "metadata": {},
   "outputs": [
    {
     "data": {
      "text/plain": [
       "4035"
      ]
     },
     "execution_count": 217,
     "metadata": {},
     "output_type": "execute_result"
    }
   ],
   "source": [
    "len(df)"
   ]
  },
  {
   "cell_type": "code",
   "execution_count": 218,
   "id": "f298987c",
   "metadata": {},
   "outputs": [],
   "source": [
    "def creerdf(df,nbr_lignes):\n",
    "    borne_inf = 0\n",
    "    borne_sup = nbr_lignes-1\n",
    "    limite = len(df)\n",
    "    dfs = []\n",
    "    ajout = True\n",
    "    while ajout :\n",
    "        dfs.append(df.loc[borne_inf:borne_sup])\n",
    "        \n",
    "        #Si la dernière ligne ajoutée est la dernière ligne du dataframe\n",
    "        if borne_sup == limite-1:\n",
    "            ajout = False\n",
    "        \n",
    "        #Si il y a nbr_lignes lignes ou moins à ajouter\n",
    "        elif borne_sup + nbr_lignes > limite :\n",
    "            borne_sup = borne_sup+1\n",
    "            dfs.append(df.loc[borne_sup:limite])\n",
    "            ajout = False\n",
    "        \n",
    "        #Sinon\n",
    "        else :\n",
    "            borne_inf=borne_sup+1\n",
    "            borne_sup = borne_sup + nbr_lignes\n",
    "    \n",
    "    return dfs"
   ]
  },
  {
   "cell_type": "code",
   "execution_count": 219,
   "id": "a3d1e324",
   "metadata": {},
   "outputs": [],
   "source": [
    "dfs = creerdf(df,200)"
   ]
  },
  {
   "cell_type": "code",
   "execution_count": null,
   "id": "a460ff43",
   "metadata": {},
   "outputs": [],
   "source": []
  },
  {
   "cell_type": "code",
   "execution_count": 220,
   "id": "67fec701",
   "metadata": {},
   "outputs": [
    {
     "data": {
      "text/plain": [
       "21"
      ]
     },
     "execution_count": 220,
     "metadata": {},
     "output_type": "execute_result"
    }
   ],
   "source": [
    "len(dfs)"
   ]
  },
  {
   "cell_type": "code",
   "execution_count": 223,
   "id": "82888a42",
   "metadata": {},
   "outputs": [],
   "source": [
    "def pickeling_results(liste_df):\n",
    "    for i in range(17,len(liste_df)):\n",
    "        print(\"On fait le \" + str(i) + \"ème sur \" + str(len(liste_df)))\n",
    "        df_i = liste_df[i]\n",
    "        df_i[\"Latitude\"],df_i[\"Longitude\"] = listeAdresses_listesGPS(df_i[\"ADRESSE\"])\n",
    "        name = \"pickle/gps/df\"+str(i+1) +\"_lat_long.pkl\"\n",
    "        df_i.to_pickle(name)        "
   ]
  },
  {
   "cell_type": "code",
   "execution_count": null,
   "id": "f9be0f46",
   "metadata": {
    "scrolled": true
   },
   "outputs": [
    {
     "name": "stdout",
     "output_type": "stream",
     "text": [
      "On fait le 10ème sur 21\n",
      "0 sur 200\n",
      "erreur (data liste) pour :10 R DE KEROCARD SAINT AVE.\n",
      "erreur (data liste) pour :1E AV GEN DE GAULLE TREGUEUX\n",
      "50 sur 200\n",
      "erreur (data liste) pour :18 RUE DES ROSIERS BAILLE SAINT MARC LE BLANC\n",
      "erreur (adresse non trouvée) pour :5612 L EVANIERE SAINTE MARIE\n",
      "100 sur 200\n",
      "erreur (adresse non trouvée) pour :14 COAT PLEN COAT SAINT GOAZEC\n",
      "150 sur 200\n",
      "On fait le 11ème sur 21\n",
      "0 sur 200\n",
      "erreur (adresse non trouvée) pour :57 COAVOU VILDE GUINGALAN\n",
      "50 sur 200\n",
      "100 sur 200\n",
      "erreur (adresse non trouvée) pour :37 LE COQ ROUGE SERVON SUR VILAINE\n",
      "erreur (data liste) pour :43 RUE PARC GOVEL GOUDELIN\n",
      "150 sur 200\n",
      "erreur (data liste) pour :13 LA PERRIERE MERNEL\n",
      "erreur (data liste) pour :6 RUE DE LA CROIX DES FORGES NOYAL SUR VILAINE\n",
      "On fait le 12ème sur 21\n",
      "0 sur 200\n",
      "erreur (data liste) pour :64 RUE GEN DE GAULLE GRANDCHAMP\n",
      "50 sur 200\n",
      "erreur (data liste) pour :57B RUE ST MICHEL REDON\n",
      "erreur (data liste) pour :8 RUE BROSSAY ST MARC RENNES\n",
      "100 sur 200\n",
      "150 sur 200\n",
      "erreur (adresse non trouvée) pour :8 TREGNANTON BON REPOS SUR BLAVET\n",
      "On fait le 13ème sur 21\n",
      "0 sur 200\n",
      "erreur (data liste) pour :11 HENT PARK SPERNEK CAVAN\n",
      "erreur (adresse non trouvée) pour :45 RUE 10EME RA VANNES\n",
      "erreur (data liste) pour :4 RUE GEORGES CLEMENCEAU MORDELLES\n",
      "50 sur 200\n",
      "100 sur 200\n",
      "erreur (data liste) pour :5 RUE DU LOCH GRANDCHAMP\n",
      "erreur (adresse non trouvée) pour :6 COAT NESTIC BOURBRIAC\n",
      "erreur (adresse non trouvée) pour :41 LE COQ ROUGE SERVON SUR VILAINE\n",
      "150 sur 200\n",
      "erreur (data liste) pour :17B RUE DE BRETAGNE PONTIVY\n",
      "On fait le 14ème sur 21\n",
      "0 sur 200\n",
      "erreur (data liste) pour :26 RES BELLEVUE LA SELLE EN LUITRE\n",
      "50 sur 200\n",
      "100 sur 200\n",
      "150 sur 200\n",
      "On fait le 15ème sur 21\n",
      "0 sur 200\n",
      "erreur (data liste) pour :16 RUE MARIA CHAPDELAINE QUIMPER\n",
      "50 sur 200\n",
      "100 sur 200\n",
      "erreur (adresse non trouvée) pour :1 COAT COGUAN BERHET\n",
      "150 sur 200\n",
      "On fait le 16ème sur 21\n",
      "0 sur 200\n",
      "erreur (adresse non trouvée) pour :8 LERAUDIERE SAINT HILAIRE DES LANDES\n",
      "50 sur 200\n",
      "100 sur 200\n",
      "150 sur 200\n",
      "On fait le 17ème sur 21\n",
      "0 sur 200\n"
     ]
    }
   ],
   "source": [
    "pickeling_results(dfs)"
   ]
  },
  {
   "cell_type": "code",
   "execution_count": null,
   "id": "a72ec667",
   "metadata": {},
   "outputs": [],
   "source": [
    "def recup_pickle(list_df):\n",
    "    new_df = pd.DataFrame({'No DESIGNATION': [], 'Reussite': [],\"ADRESSE\":[],\"Latitude\":[],\"Longitude\":[]})\n",
    "    for i in range(0,len(liste)) :\n",
    "        name = \"pickle/gps/df\"+str(i+1) +\"_lat_long.pkl\"\n",
    "        df_i = pd.read_pickle(name)\n",
    "        new_df = pandas.concat([new_df, df_i], ignore_index = True)\n",
    "    return new_df"
   ]
  },
  {
   "cell_type": "code",
   "execution_count": null,
   "id": "ed47ca8f",
   "metadata": {},
   "outputs": [],
   "source": [
    "df2 = recup_pickle(dfs)"
   ]
  },
  {
   "cell_type": "code",
   "execution_count": null,
   "id": "6cd6fa6d",
   "metadata": {},
   "outputs": [],
   "source": [
    "def ou_sont_les_erreurs(dataframe):\n",
    "    liste_erreurs = []\n",
    "    for i in range(0,len(dataframe)):\n",
    "        if dataframe.loc[i,\"Latitude\"] == None or dataframe.loc[i,\"Longitude\"] == None :\n",
    "            liste_erreurs.append(i)\n",
    "    return liste_erreurs\n"
   ]
  },
  {
   "cell_type": "code",
   "execution_count": null,
   "id": "0619c3e3",
   "metadata": {},
   "outputs": [],
   "source": [
    "ou_sont_les_erreurs(df2)"
   ]
  }
 ],
 "metadata": {
  "kernelspec": {
   "display_name": "Python 3 (ipykernel)",
   "language": "python",
   "name": "python3"
  },
  "language_info": {
   "codemirror_mode": {
    "name": "ipython",
    "version": 3
   },
   "file_extension": ".py",
   "mimetype": "text/x-python",
   "name": "python",
   "nbconvert_exporter": "python",
   "pygments_lexer": "ipython3",
   "version": "3.11.3"
  }
 },
 "nbformat": 4,
 "nbformat_minor": 5
}
