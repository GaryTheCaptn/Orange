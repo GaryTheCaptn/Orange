{
 "cells": [
  {
   "cell_type": "code",
   "execution_count": 1,
   "id": "dc20989f",
   "metadata": {},
   "outputs": [],
   "source": [
    "#Importation\n",
    "import pickle\n",
    "import re\n",
    "import numpy as np\n",
    "import pandas as pd\n",
    "import matplotlib.pyplot as plt\n",
    "import warnings\n",
    "import sklearn as sk\n",
    "from sklearn import tree\n",
    "from sklearn.preprocessing import StandardScaler, MinMaxScaler\n",
    "from sklearn.tree import DecisionTreeClassifier, export_graphviz\n",
    "import matplotlib.pyplot as plt\n",
    "from textblob import TextBlob\n",
    "from statistics import mean\n",
    "from math import ceil\n",
    "from collections import Counter\n",
    "warnings.filterwarnings('ignore')"
   ]
  },
  {
   "cell_type": "code",
   "execution_count": 2,
   "id": "6098f998",
   "metadata": {},
   "outputs": [
    {
     "data": {
      "text/html": [
       "<div>\n",
       "<style scoped>\n",
       "    .dataframe tbody tr th:only-of-type {\n",
       "        vertical-align: middle;\n",
       "    }\n",
       "\n",
       "    .dataframe tbody tr th {\n",
       "        vertical-align: top;\n",
       "    }\n",
       "\n",
       "    .dataframe thead th {\n",
       "        text-align: right;\n",
       "    }\n",
       "</style>\n",
       "<table border=\"1\" class=\"dataframe\">\n",
       "  <thead>\n",
       "    <tr style=\"text-align: right;\">\n",
       "      <th></th>\n",
       "      <th>nombre_commentaires</th>\n",
       "      <th>Longueur moyenne commentaire</th>\n",
       "      <th>Reussite</th>\n",
       "      <th>polarite</th>\n",
       "      <th>subjectivite</th>\n",
       "    </tr>\n",
       "  </thead>\n",
       "  <tbody>\n",
       "    <tr>\n",
       "      <th>0</th>\n",
       "      <td>-0.755824</td>\n",
       "      <td>-0.328797</td>\n",
       "      <td>False</td>\n",
       "      <td>0.000000</td>\n",
       "      <td>0.000000</td>\n",
       "    </tr>\n",
       "    <tr>\n",
       "      <th>1</th>\n",
       "      <td>0.333062</td>\n",
       "      <td>-0.468411</td>\n",
       "      <td>True</td>\n",
       "      <td>0.100000</td>\n",
       "      <td>0.100000</td>\n",
       "    </tr>\n",
       "    <tr>\n",
       "      <th>2</th>\n",
       "      <td>1.966390</td>\n",
       "      <td>1.752941</td>\n",
       "      <td>True</td>\n",
       "      <td>0.062500</td>\n",
       "      <td>0.062500</td>\n",
       "    </tr>\n",
       "    <tr>\n",
       "      <th>3</th>\n",
       "      <td>-0.755824</td>\n",
       "      <td>-0.627969</td>\n",
       "      <td>True</td>\n",
       "      <td>0.133333</td>\n",
       "      <td>0.158333</td>\n",
       "    </tr>\n",
       "    <tr>\n",
       "      <th>4</th>\n",
       "      <td>-0.755824</td>\n",
       "      <td>-0.877279</td>\n",
       "      <td>True</td>\n",
       "      <td>0.166667</td>\n",
       "      <td>0.166667</td>\n",
       "    </tr>\n",
       "    <tr>\n",
       "      <th>...</th>\n",
       "      <td>...</td>\n",
       "      <td>...</td>\n",
       "      <td>...</td>\n",
       "      <td>...</td>\n",
       "      <td>...</td>\n",
       "    </tr>\n",
       "    <tr>\n",
       "      <th>4183</th>\n",
       "      <td>1.966390</td>\n",
       "      <td>-0.359961</td>\n",
       "      <td>True</td>\n",
       "      <td>0.000000</td>\n",
       "      <td>0.000000</td>\n",
       "    </tr>\n",
       "    <tr>\n",
       "      <th>4184</th>\n",
       "      <td>-0.755824</td>\n",
       "      <td>-0.665366</td>\n",
       "      <td>True</td>\n",
       "      <td>0.166667</td>\n",
       "      <td>0.166667</td>\n",
       "    </tr>\n",
       "    <tr>\n",
       "      <th>4185</th>\n",
       "      <td>-0.755824</td>\n",
       "      <td>-0.627969</td>\n",
       "      <td>True</td>\n",
       "      <td>0.166667</td>\n",
       "      <td>0.166667</td>\n",
       "    </tr>\n",
       "    <tr>\n",
       "      <th>4186</th>\n",
       "      <td>0.333062</td>\n",
       "      <td>-0.722707</td>\n",
       "      <td>True</td>\n",
       "      <td>0.100000</td>\n",
       "      <td>0.100000</td>\n",
       "    </tr>\n",
       "    <tr>\n",
       "      <th>4187</th>\n",
       "      <td>-0.755824</td>\n",
       "      <td>-0.927141</td>\n",
       "      <td>True</td>\n",
       "      <td>0.166667</td>\n",
       "      <td>0.166667</td>\n",
       "    </tr>\n",
       "  </tbody>\n",
       "</table>\n",
       "<p>4188 rows × 5 columns</p>\n",
       "</div>"
      ],
      "text/plain": [
       "      nombre_commentaires  Longueur moyenne commentaire  Reussite  polarite   \n",
       "0               -0.755824                     -0.328797     False  0.000000  \\\n",
       "1                0.333062                     -0.468411      True  0.100000   \n",
       "2                1.966390                      1.752941      True  0.062500   \n",
       "3               -0.755824                     -0.627969      True  0.133333   \n",
       "4               -0.755824                     -0.877279      True  0.166667   \n",
       "...                   ...                           ...       ...       ...   \n",
       "4183             1.966390                     -0.359961      True  0.000000   \n",
       "4184            -0.755824                     -0.665366      True  0.166667   \n",
       "4185            -0.755824                     -0.627969      True  0.166667   \n",
       "4186             0.333062                     -0.722707      True  0.100000   \n",
       "4187            -0.755824                     -0.927141      True  0.166667   \n",
       "\n",
       "      subjectivite  \n",
       "0         0.000000  \n",
       "1         0.100000  \n",
       "2         0.062500  \n",
       "3         0.158333  \n",
       "4         0.166667  \n",
       "...            ...  \n",
       "4183      0.000000  \n",
       "4184      0.166667  \n",
       "4185      0.166667  \n",
       "4186      0.100000  \n",
       "4187      0.166667  \n",
       "\n",
       "[4188 rows x 5 columns]"
      ]
     },
     "execution_count": 2,
     "metadata": {},
     "output_type": "execute_result"
    }
   ],
   "source": [
    "# On ramene les données du prétraitement du dataframe\n",
    "df2 = pd.read_pickle(\"./PICKLE/df_stat_commentaires.pkl\")\n",
    "df2"
   ]
  },
  {
   "cell_type": "markdown",
   "id": "697cc7ad",
   "metadata": {},
   "source": [
    "### Séparation des dataset d'évaluation et d'apprentissage"
   ]
  },
  {
   "cell_type": "code",
   "execution_count": 23,
   "id": "27ffb9db",
   "metadata": {},
   "outputs": [],
   "source": [
    "def creation_test_train(dataframe,label):\n",
    "    train_df = dataframe.sample(frac=0.8)\n",
    "    test_df = dataframe.drop(train_df.index)\n",
    "\n",
    "    train_df_Y = train_df[label]\n",
    "    test_df_Y = test_df[label]\n",
    "\n",
    "    train_df_X = train_df.drop(label,axis=1)\n",
    "    test_df_X = test_df.drop(label,axis=1)\n",
    "    \n",
    "    return train_df_X,train_df_Y,test_df_X,test_df_Y"
   ]
  },
  {
   "cell_type": "code",
   "execution_count": 24,
   "id": "5e83dd44",
   "metadata": {},
   "outputs": [
    {
     "data": {
      "text/plain": [
       "nombre_commentaires             float64\n",
       "Longueur moyenne commentaire    float64\n",
       "polarite                        float64\n",
       "subjectivite                    float64\n",
       "dtype: object"
      ]
     },
     "execution_count": 24,
     "metadata": {},
     "output_type": "execute_result"
    }
   ],
   "source": [
    "train_df_X,train_df_Y,test_df_X,test_df_Y = creation_test_train(df2,\"Reussite\")\n",
    "train_df_X.dtypes"
   ]
  },
  {
   "cell_type": "markdown",
   "id": "c0cf41d6",
   "metadata": {},
   "source": [
    "### Premier arbre de décision"
   ]
  },
  {
   "cell_type": "code",
   "execution_count": 5,
   "id": "39cefcc5",
   "metadata": {},
   "outputs": [
    {
     "data": {
      "text/html": [
       "<style>#sk-container-id-1 {color: black;background-color: white;}#sk-container-id-1 pre{padding: 0;}#sk-container-id-1 div.sk-toggleable {background-color: white;}#sk-container-id-1 label.sk-toggleable__label {cursor: pointer;display: block;width: 100%;margin-bottom: 0;padding: 0.3em;box-sizing: border-box;text-align: center;}#sk-container-id-1 label.sk-toggleable__label-arrow:before {content: \"▸\";float: left;margin-right: 0.25em;color: #696969;}#sk-container-id-1 label.sk-toggleable__label-arrow:hover:before {color: black;}#sk-container-id-1 div.sk-estimator:hover label.sk-toggleable__label-arrow:before {color: black;}#sk-container-id-1 div.sk-toggleable__content {max-height: 0;max-width: 0;overflow: hidden;text-align: left;background-color: #f0f8ff;}#sk-container-id-1 div.sk-toggleable__content pre {margin: 0.2em;color: black;border-radius: 0.25em;background-color: #f0f8ff;}#sk-container-id-1 input.sk-toggleable__control:checked~div.sk-toggleable__content {max-height: 200px;max-width: 100%;overflow: auto;}#sk-container-id-1 input.sk-toggleable__control:checked~label.sk-toggleable__label-arrow:before {content: \"▾\";}#sk-container-id-1 div.sk-estimator input.sk-toggleable__control:checked~label.sk-toggleable__label {background-color: #d4ebff;}#sk-container-id-1 div.sk-label input.sk-toggleable__control:checked~label.sk-toggleable__label {background-color: #d4ebff;}#sk-container-id-1 input.sk-hidden--visually {border: 0;clip: rect(1px 1px 1px 1px);clip: rect(1px, 1px, 1px, 1px);height: 1px;margin: -1px;overflow: hidden;padding: 0;position: absolute;width: 1px;}#sk-container-id-1 div.sk-estimator {font-family: monospace;background-color: #f0f8ff;border: 1px dotted black;border-radius: 0.25em;box-sizing: border-box;margin-bottom: 0.5em;}#sk-container-id-1 div.sk-estimator:hover {background-color: #d4ebff;}#sk-container-id-1 div.sk-parallel-item::after {content: \"\";width: 100%;border-bottom: 1px solid gray;flex-grow: 1;}#sk-container-id-1 div.sk-label:hover label.sk-toggleable__label {background-color: #d4ebff;}#sk-container-id-1 div.sk-serial::before {content: \"\";position: absolute;border-left: 1px solid gray;box-sizing: border-box;top: 0;bottom: 0;left: 50%;z-index: 0;}#sk-container-id-1 div.sk-serial {display: flex;flex-direction: column;align-items: center;background-color: white;padding-right: 0.2em;padding-left: 0.2em;position: relative;}#sk-container-id-1 div.sk-item {position: relative;z-index: 1;}#sk-container-id-1 div.sk-parallel {display: flex;align-items: stretch;justify-content: center;background-color: white;position: relative;}#sk-container-id-1 div.sk-item::before, #sk-container-id-1 div.sk-parallel-item::before {content: \"\";position: absolute;border-left: 1px solid gray;box-sizing: border-box;top: 0;bottom: 0;left: 50%;z-index: -1;}#sk-container-id-1 div.sk-parallel-item {display: flex;flex-direction: column;z-index: 1;position: relative;background-color: white;}#sk-container-id-1 div.sk-parallel-item:first-child::after {align-self: flex-end;width: 50%;}#sk-container-id-1 div.sk-parallel-item:last-child::after {align-self: flex-start;width: 50%;}#sk-container-id-1 div.sk-parallel-item:only-child::after {width: 0;}#sk-container-id-1 div.sk-dashed-wrapped {border: 1px dashed gray;margin: 0 0.4em 0.5em 0.4em;box-sizing: border-box;padding-bottom: 0.4em;background-color: white;}#sk-container-id-1 div.sk-label label {font-family: monospace;font-weight: bold;display: inline-block;line-height: 1.2em;}#sk-container-id-1 div.sk-label-container {text-align: center;}#sk-container-id-1 div.sk-container {/* jupyter's `normalize.less` sets `[hidden] { display: none; }` but bootstrap.min.css set `[hidden] { display: none !important; }` so we also need the `!important` here to be able to override the default hidden behavior on the sphinx rendered scikit-learn.org. See: https://github.com/scikit-learn/scikit-learn/issues/21755 */display: inline-block !important;position: relative;}#sk-container-id-1 div.sk-text-repr-fallback {display: none;}</style><div id=\"sk-container-id-1\" class=\"sk-top-container\"><div class=\"sk-text-repr-fallback\"><pre>DecisionTreeClassifier(max_depth=5, random_state=42)</pre><b>In a Jupyter environment, please rerun this cell to show the HTML representation or trust the notebook. <br />On GitHub, the HTML representation is unable to render, please try loading this page with nbviewer.org.</b></div><div class=\"sk-container\" hidden><div class=\"sk-item\"><div class=\"sk-estimator sk-toggleable\"><input class=\"sk-toggleable__control sk-hidden--visually\" id=\"sk-estimator-id-1\" type=\"checkbox\" checked><label for=\"sk-estimator-id-1\" class=\"sk-toggleable__label sk-toggleable__label-arrow\">DecisionTreeClassifier</label><div class=\"sk-toggleable__content\"><pre>DecisionTreeClassifier(max_depth=5, random_state=42)</pre></div></div></div></div></div>"
      ],
      "text/plain": [
       "DecisionTreeClassifier(max_depth=5, random_state=42)"
      ]
     },
     "execution_count": 5,
     "metadata": {},
     "output_type": "execute_result"
    }
   ],
   "source": [
    "tree_classifier = DecisionTreeClassifier(max_depth=5,\n",
    "random_state=42)\n",
    "tree_classifier.fit(train_df_X, train_df_Y)"
   ]
  },
  {
   "cell_type": "code",
   "execution_count": 6,
   "id": "cd74129c",
   "metadata": {},
   "outputs": [],
   "source": [
    "y_pred = tree_classifier.predict(test_df_X)"
   ]
  },
  {
   "cell_type": "markdown",
   "id": "3c2b18df",
   "metadata": {},
   "source": [
    "### Statistiques du modèle"
   ]
  },
  {
   "cell_type": "code",
   "execution_count": 7,
   "id": "257ffd6c",
   "metadata": {},
   "outputs": [
    {
     "data": {
      "text/plain": [
       "array([[[703,  20],\n",
       "        [ 40,  75]],\n",
       "\n",
       "       [[ 75,  40],\n",
       "        [ 20, 703]]], dtype=int64)"
      ]
     },
     "execution_count": 7,
     "metadata": {},
     "output_type": "execute_result"
    }
   ],
   "source": [
    "sk.metrics.multilabel_confusion_matrix(test_df_Y,y_pred)"
   ]
  },
  {
   "cell_type": "code",
   "execution_count": 8,
   "id": "c835e3ce",
   "metadata": {},
   "outputs": [],
   "source": [
    "def stat_modele(true,pred,arrondi=5,affichage=False):\n",
    "    accuracy = round(sk.metrics.accuracy_score(true,pred),arrondi)*100\n",
    "    rappel = round(sk.metrics.recall_score(true,pred),arrondi)*100\n",
    "    precision = round(sk.metrics.precision_score(true,pred),arrondi)*100\n",
    "    specificity = round(sk.metrics.recall_score(true,pred,pos_label=0),arrondi)*100\n",
    "    vpn = round(sk.metrics.precision_score(true,pred,pos_label=0),arrondi)*100\n",
    "    if affichage :\n",
    "        print(\"Accuracy : proportion de prédictions correctes (VP + VN /(VP+VN+FN+FP)) : \" + str(accuracy) + \"%\")\n",
    "        print(\"Rappel : proportion de réussites correctement prédites sur l'ensemble des réussites (VP/(VP+FN)) : \" + str(rappel) + \"%\")\n",
    "        print(\"Précision :  proportion de véritables réussites parmi les réussites prédites (VP/(VP+FP)) : \" + str(precision) + \"%\")\n",
    "        print(\"Spécificité : proportion d'échecs correctement prédits sur l'ensemble des échecs (VN/(VN+FP)) : \"+str(specificity) + \"%\")\n",
    "        print(\"Valeur prédictive négative: proportion de véritables échecs parmi les échecs prédits (VN/(VN+FN)) : \" + str(vpn) + \"%\")\n",
    "   \n",
    "    return accuracy,rappel,precision,specificity,vpn"
   ]
  },
  {
   "cell_type": "code",
   "execution_count": 9,
   "id": "83928c21",
   "metadata": {},
   "outputs": [
    {
     "name": "stdout",
     "output_type": "stream",
     "text": [
      "Accuracy : proportion de prédictions correctes (VP + VN /(VP+VN+FN+FP)) : 92.84%\n",
      "Rappel : proportion de réussites correctement prédites sur l'ensemble des réussites (VP/(VP+FN)) : 97.234%\n",
      "Précision :  proportion de véritables réussites parmi les réussites prédites (VP/(VP+FP)) : 94.616%\n",
      "Spécificité : proportion d'échecs correctement prédits sur l'ensemble des échecs (VN/(VN+FP)) : 65.217%\n",
      "Valeur prédictive négative: proportion de véritables échecs parmi les échecs prédits (VN/(VN+FN)) : 78.947%\n"
     ]
    },
    {
     "data": {
      "text/plain": [
       "(92.84, 97.234, 94.616, 65.217, 78.947)"
      ]
     },
     "execution_count": 9,
     "metadata": {},
     "output_type": "execute_result"
    }
   ],
   "source": [
    "stat_modele(test_df_Y,y_pred,affichage=True)"
   ]
  },
  {
   "cell_type": "markdown",
   "id": "9d94fa78",
   "metadata": {},
   "source": [
    "Pour un premier essai c'est pas mal : quand le modèle prédit un échec il ne se trompe pas dans 67.5% des cas, un échec sera prédit comme tel dans 76% des cas et les réussites prédites comme telles sont des réussites dans 96.7% des cas !\n",
    "\n",
    "L'objectif est de faire un modèle améliorant la valeur prédictive négative et la spécificité."
   ]
  },
  {
   "cell_type": "markdown",
   "id": "f2fa52e0",
   "metadata": {},
   "source": [
    "### Rafinnage \n",
    "Finetune des hyperparamètres"
   ]
  },
  {
   "cell_type": "code",
   "execution_count": 10,
   "id": "0938ecd9",
   "metadata": {},
   "outputs": [],
   "source": [
    "def BestHyperparameters_vpn(trainX,trainY,testX,testY,min_example,depth):\n",
    "    best_vpn = 0\n",
    "    best_min_example = 0\n",
    "    best_depth = 0\n",
    "    best_criterion = \"\"\n",
    "    #On va tester toutes les combinaisons possibles :\n",
    "    for criterion in [\"gini\",\"entropy\"]:\n",
    "        for example in min_example:\n",
    "            for profondeur in depth:\n",
    "                #On créer l'arbre\n",
    "                arbre = DecisionTreeClassifier(criterion=criterion,min_samples_leaf=example,max_depth=profondeur)\n",
    "                arbre.fit(trainX, trainY)\n",
    "                #On calcule la prédiction et la vpn associée\n",
    "                predictionY = arbre.predict(testX)\n",
    "                vpn = round(sk.metrics.precision_score(testY,predictionY,pos_label=0),5)*100\n",
    "                #On compare\n",
    "                if vpn>best_vpn :\n",
    "                    best_vpn = vpn\n",
    "                    best_min_example = example\n",
    "                    best_depth = profondeur\n",
    "                    best_criterion= criterion\n",
    "                \n",
    "    return (best_vpn,best_min_example,best_depth,best_criterion)"
   ]
  },
  {
   "cell_type": "code",
   "execution_count": 11,
   "id": "04749b1b",
   "metadata": {},
   "outputs": [],
   "source": [
    "def BestHyperparameters_spe(trainX,trainY,testX,testY,min_example,depth):\n",
    "    best_spe = 0\n",
    "    best_min_example = 0\n",
    "    best_depth = 0\n",
    "    best_criterion = \"\"\n",
    "    #On va tester toutes les combinaisons possibles :\n",
    "    for criterion in [\"gini\",\"entropy\"]:\n",
    "        for example in min_example:\n",
    "            for profondeur in depth:\n",
    "                #On créer l'arbre\n",
    "                arbre = DecisionTreeClassifier(criterion=criterion,min_samples_leaf=example,max_depth=profondeur)\n",
    "                arbre.fit(trainX, trainY)\n",
    "                #On calcule la prédiction et la specificite associee\n",
    "                predictionY = arbre.predict(testX)\n",
    "                spe = round(sk.metrics.recall_score(testY,predictionY,pos_label=0),5)*100\n",
    "                #On compare\n",
    "                if spe>best_spe :\n",
    "                    best_spe = spe\n",
    "                    best_min_example = example\n",
    "                    best_depth = profondeur\n",
    "                    best_criterion= criterion\n",
    "                \n",
    "    return (best_spe,best_min_example,best_depth,best_criterion)"
   ]
  },
  {
   "cell_type": "code",
   "execution_count": 12,
   "id": "a52bff7a",
   "metadata": {},
   "outputs": [],
   "source": [
    "#Fonction permettant de trouver les meilleurs hyperparametres en refaisant les dataset d'entrainement de test plusieurs fois et en gardant la moyenne\n",
    "def Finetune_vpn(nombre_essai,min_example,depth):\n",
    "    l_vpn = []\n",
    "    l_best_min_example = []\n",
    "    l_best_depth = []\n",
    "    l_best_criterion = []\n",
    "    \n",
    "    for i in range (0,nombre_essai) :\n",
    "        if i%10==0 :\n",
    "            print(i)\n",
    "        trainX,trainY,testX,testY = creation_test_train(df2,\"Reussite\")\n",
    "        best_vpn,best_min_example,best_depth,best_criterion = BestHyperparameters_vpn(trainX,trainY,testX,testY,min_example,depth)\n",
    "        l_vpn.append(best_vpn)\n",
    "        l_best_min_example.append(best_min_example)\n",
    "        l_best_depth.append(best_depth)\n",
    "        l_best_criterion.append(best_criterion)\n",
    "    return mean(l_vpn),Counter(l_best_min_example).most_common(1)[0][0],Counter(l_best_depth).most_common(1)[0][0],Counter(l_best_criterion).most_common(1)[0][0]\n",
    "    "
   ]
  },
  {
   "cell_type": "code",
   "execution_count": 13,
   "id": "7755847d",
   "metadata": {},
   "outputs": [],
   "source": [
    "def Finetune_spe(nombre_essai,min_example,depth):\n",
    "    l_spe = []\n",
    "    l_best_min_example = []\n",
    "    l_best_depth = []\n",
    "    l_best_criterion = []\n",
    "    \n",
    "    for i in range (0,nombre_essai) :\n",
    "        if i%10==0 :\n",
    "            print(i)\n",
    "        trainX,trainY,testX,testY = creation_test_train(df2,\"Reussite\")\n",
    "        best_spe,best_min_example,best_depth,best_criterion = BestHyperparameters_spe(trainX,trainY,testX,testY,min_example,depth)\n",
    "        l_spe.append(best_spe)\n",
    "        l_best_min_example.append(best_min_example)\n",
    "        l_best_depth.append(best_depth)\n",
    "        l_best_criterion.append(best_criterion)\n",
    "    return mean(l_spe),Counter(l_best_min_example).most_common(1)[0][0],Counter(l_best_depth).most_common(1)[0][0],Counter(l_best_criterion).most_common(1)[0][0]\n",
    "    "
   ]
  },
  {
   "cell_type": "code",
   "execution_count": 14,
   "id": "0189c277",
   "metadata": {},
   "outputs": [
    {
     "name": "stdout",
     "output_type": "stream",
     "text": [
      "0\n",
      "10\n",
      "20\n",
      "30\n",
      "40\n",
      "50\n",
      "60\n",
      "70\n",
      "80\n",
      "90\n",
      "100\n",
      "110\n",
      "120\n",
      "130\n",
      "140\n",
      "150\n",
      "160\n",
      "170\n",
      "180\n",
      "190\n",
      "200\n",
      "210\n",
      "220\n",
      "230\n",
      "240\n"
     ]
    },
    {
     "data": {
      "text/plain": [
       "(73.191128, 2, 4, 'gini')"
      ]
     },
     "execution_count": 14,
     "metadata": {},
     "output_type": "execute_result"
    }
   ],
   "source": [
    "Finetune_vpn(250,[2,3,4,5],[2,3,4,5,6])"
   ]
  },
  {
   "cell_type": "code",
   "execution_count": 15,
   "id": "d62db619",
   "metadata": {},
   "outputs": [
    {
     "name": "stdout",
     "output_type": "stream",
     "text": [
      "0\n",
      "10\n",
      "20\n",
      "30\n",
      "40\n",
      "50\n",
      "60\n",
      "70\n",
      "80\n",
      "90\n",
      "100\n",
      "110\n",
      "120\n",
      "130\n",
      "140\n",
      "150\n",
      "160\n",
      "170\n",
      "180\n",
      "190\n",
      "200\n",
      "210\n",
      "220\n",
      "230\n",
      "240\n"
     ]
    },
    {
     "data": {
      "text/plain": [
       "(79.511124, 2, 6, 'gini')"
      ]
     },
     "execution_count": 15,
     "metadata": {},
     "output_type": "execute_result"
    }
   ],
   "source": [
    "Finetune_spe(250,[2,3,4,5],[2,3,4,5,6])"
   ]
  },
  {
   "cell_type": "markdown",
   "id": "c53ce11e",
   "metadata": {},
   "source": [
    "Pour les deux mesures les meilleurs paramètres sont min_example = 2, max_depth = 4 et criterion = \"gini\".\n",
    "On va les utiliser pour la visualisation de l'arbre."
   ]
  },
  {
   "cell_type": "code",
   "execution_count": 16,
   "id": "3432f433",
   "metadata": {},
   "outputs": [],
   "source": [
    "def afficherArbreDecision(class_names,feature_names,arbre):\n",
    "    fig, ax = plt.subplots(figsize=(12, 12))\n",
    "    tree.plot_tree(arbre, feature_names=feature_names, class_names=class_names, filled=True, ax=ax)\n",
    "    plt.show()"
   ]
  },
  {
   "cell_type": "code",
   "execution_count": 25,
   "id": "14d4e7e0",
   "metadata": {},
   "outputs": [],
   "source": [
    "arbre = DecisionTreeClassifier(criterion=\"gini\",min_samples_leaf=2,max_depth=4)\n",
    "arbre.fit(train_df_X, train_df_Y)\n",
    "class_names = [\"Réussite\",\"Echec\"]\n",
    "features_names = [\"nombre_commentaires\",\"Longueur moyenne commentaire\", \"polarite\",\"subjectivite\"]\n"
   ]
  },
  {
   "cell_type": "code",
   "execution_count": 26,
   "id": "aebedc3e",
   "metadata": {},
   "outputs": [
    {
     "data": {
      "image/png": "[encoded data removed]",
      "text/plain": [
       "<Figure size 1200x1200 with 1 Axes>"
      ]
     },
     "metadata": {},
     "output_type": "display_data"
    }
   ],
   "source": [
    "afficherArbreDecision(class_names,features_names,arbre)"
   ]
  },
  {
   "cell_type": "code",
   "execution_count": 27,
   "id": "1899301c",
   "metadata": {},
   "outputs": [],
   "source": [
    "y_pred = arbre.predict(test_df_X)"
   ]
  },
  {
   "cell_type": "code",
   "execution_count": 28,
   "id": "69673605",
   "metadata": {},
   "outputs": [
    {
     "name": "stdout",
     "output_type": "stream",
     "text": [
      "Accuracy : proportion de prédictions correctes (VP + VN /(VP+VN+FN+FP)) : 93.31700000000001%\n",
      "Rappel : proportion de réussites correctement prédites sur l'ensemble des réussites (VP/(VP+FN)) : 96.429%\n",
      "Précision :  proportion de véritables réussites parmi les réussites prédites (VP/(VP+FP)) : 95.902%\n",
      "Spécificité : proportion d'échecs correctement prédits sur l'ensemble des échecs (VN/(VN+FP)) : 72.727%\n",
      "Valeur prédictive négative: proportion de véritables échecs parmi les échecs prédits (VN/(VN+FN)) : 75.472%\n"
     ]
    },
    {
     "data": {
      "text/plain": [
       "(93.31700000000001, 96.429, 95.902, 72.727, 75.472)"
      ]
     },
     "execution_count": 28,
     "metadata": {},
     "output_type": "execute_result"
    }
   ],
   "source": [
    "stat_modele(test_df_Y,y_pred,affichage=True)"
   ]
  },
  {
   "cell_type": "code",
   "execution_count": null,
   "id": "3fd53fb9",
   "metadata": {},
   "outputs": [],
   "source": [
    "-> vpn à maximiser"
   ]
  }
 ],
 "metadata": {
  "kernelspec": {
   "display_name": "Python 3 (ipykernel)",
   "language": "python",
   "name": "python3"
  },
  "language_info": {
   "codemirror_mode": {
    "name": "ipython",
    "version": 3
   },
   "file_extension": ".py",
   "mimetype": "text/x-python",
   "name": "python",
   "nbconvert_exporter": "python",
   "pygments_lexer": "ipython3",
   "version": "3.11.3"
  }
 },
 "nbformat": 4,
 "nbformat_minor": 5
}
